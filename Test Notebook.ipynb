{
 "cells": [
  {
   "cell_type": "markdown",
   "metadata": {},
   "source": [
    "**Table of Contents**\n",
    "<div id=\"toc\"></div>"
   ]
  },
  {
   "cell_type": "code",
   "execution_count": 1,
   "metadata": {},
   "outputs": [],
   "source": [
    "%config IPCompleter.greedy=True"
   ]
  },
  {
   "cell_type": "markdown",
   "metadata": {},
   "source": [
    "# Importing and Displaying CDC Vaccine Data"
   ]
  },
  {
   "cell_type": "code",
   "execution_count": 29,
   "metadata": {},
   "outputs": [],
   "source": [
    "import pandas as pd\n",
    "import numpy as np\n",
    "import matplotlib.pyplot as plt\n",
    "import math"
   ]
  },
  {
   "cell_type": "code",
   "execution_count": 10,
   "metadata": {
    "scrolled": true
   },
   "outputs": [],
   "source": [
    "df = pd.read_json('https://data.cdc.gov/resource/pvgy-252u.json', orient='columns')\n",
    "# df = pd.read_json('https://datahub.smcgov.org/resource/dmz9-a27g.json', orient='columns')"
   ]
  },
  {
   "cell_type": "code",
   "execution_count": 42,
   "metadata": {},
   "outputs": [],
   "source": [
    "xList, yList, lon, lat = [], [], [], []\n",
    "\n",
    "# https://gis.stackexchange.com/questions/156035/calculating-mercator-coordinates-from-lat-lon/156046\n",
    "def merc(lat, lon):\n",
    "    r_major = 6378137.000\n",
    "    x = r_major * math.radians(lon)\n",
    "    scale = x/lon\n",
    "    y = 180.0/math.pi * math.log(math.tan(math.pi/4.0 + lat * (math.pi/180.0)/2.0)) * scale\n",
    "    return (x, y)\n",
    "\n",
    "for i in range(len(df.location_1)):\n",
    "    if str(df.location_1[i]) != 'nan':\n",
    "        cord = merc(df.location_1[i]['coordinates'][1], df.location_1[i]['coordinates'][0])\n",
    "        xList.append(cord[0])\n",
    "        yList.append(cord[1])\n",
    "        lat.append(df.location_1[i]['coordinates'][1])\n",
    "        lon.append(df.location_1[i]['coordinates'][0])"
   ]
  },
  {
   "cell_type": "markdown",
   "metadata": {},
   "source": [
    "# Graphing CDC Vaccine Data"
   ]
  },
  {
   "cell_type": "code",
   "execution_count": 44,
   "metadata": {},
   "outputs": [],
   "source": [
    "from bokeh.models import ColumnDataSource\n",
    "from bokeh.plotting import figure\n",
    "from bokeh.models import HoverTool\n",
    "from bokeh.tile_providers import CARTODBPOSITRON\n",
    "from bokeh.io import show,output_file\n",
    "\n",
    "source=ColumnDataSource({'x':xList,'y':yList})\n",
    "\n",
    "x_range=(min(xList),max(xList))\n",
    "y_range=(min(yList),max(yList))\n",
    "\n",
    "plot = figure(title='Disease Map', tools='pan,wheel_zoom', \n",
    "              x_range=x_range, y_range=y_range, \n",
    "              x_axis_type=\"mercator\", y_axis_type=\"mercator\", \n",
    "              width=600, height=600)\n",
    "plot.add_tile(CARTODBPOSITRON)\n",
    "\n",
    "plot.circle(x=\"x\", y=\"y\", size=15, fill_color=\"red\", fill_alpha=0.8, source=source)\n",
    "plot.add_tools(HoverTool(tooltips=[\n",
    "    (\"(Long, Lat)\", \"(%s, %s)\" % (lon, lat)),\n",
    "]))\n",
    "\n",
    "output_file(\"file.html\")\n",
    "show(plot)"
   ]
  },
  {
   "cell_type": "markdown",
   "metadata": {},
   "source": [
    "# Testing Graphing with Example Data"
   ]
  },
  {
   "cell_type": "code",
   "execution_count": null,
   "metadata": {
    "scrolled": false
   },
   "outputs": [],
   "source": [
    "scottish_hills = {'Hill Name': ['Ben Nevis', 'Ben Macdui', 'Braeriach', 'Cairn Toul', 'Sgòr an Lochain Uaine'],\n",
    "                  'Height': [1345, 1309, 1296, 1291, 1258],\n",
    "                  'Latitude': [56.79685, 57.070453, 57.078628, 57.054611, 57.057999],\n",
    "                  'Longitude': [-5.003508, -3.668262, -3.728024, -3.71042, -3.725416]}\n",
    "\n",
    "dataframe = pd.DataFrame(scottish_hills)\n",
    "print(dataframe)\n",
    "\n",
    "dataframe = pd.DataFrame(scottish_hills, columns=['Hill Name', 'Height', 'Latitude', 'Longitude'])"
   ]
  },
  {
   "cell_type": "code",
   "execution_count": null,
   "metadata": {},
   "outputs": [],
   "source": [
    "from scipy.stats import linregress\n",
    "\n",
    "x = dataframe.Height\n",
    "y = dataframe.Latitude\n",
    "\n",
    "stats = linregress(x, y)\n",
    "\n",
    "m = stats.slope\n",
    "b = stats.intercept\n",
    "\n",
    "plt.scatter(x, y)\n",
    "plt.plot(x, m * x + b, color=\"red\")\n",
    "plt.show()"
   ]
  },
  {
   "cell_type": "code",
   "execution_count": null,
   "metadata": {},
   "outputs": [],
   "source": [
    "from bokeh.models import ColumnDataSource\n",
    "from bokeh.plotting import figure\n",
    "from bokeh.tile_providers import CARTODBPOSITRON\n",
    "from bokeh.io import save,output_file\n",
    "\n",
    "#the data\n",
    "xList=[0.0, 111319, 222638, 333958, 445277, 556597, 667916, 779236, 890555]\n",
    "yList=[6446275, 5012341, 3763310, 2632018, 4163881, 5465442, 6800125, 6621293, 6446275]\n",
    "source=ColumnDataSource({'x':xList,'y':yList})\n",
    "\n",
    "x_range=(min(xList),max(xList))\n",
    "y_range=(min(yList),max(yList))\n",
    "plot = figure(title='printed line on map',tools= \"pan,wheel_zoom\",x_range=x_range,y_range=y_range,width=1200, height=400)#create a figure\n",
    "plot.add_tile(CARTODBPOSITRON)#add the CARTODBPOSITRON background tile\n",
    "\n",
    "#plot a dot an a line\n",
    "plot.line(source=source,x='x',y='y',line_color ='red')#line\n",
    "\n",
    "#save to html file\n",
    "output_file(\"file.html\")\n",
    "show(plot)"
   ]
  }
 ],
 "metadata": {
  "kernelspec": {
   "display_name": "Python 3",
   "language": "python",
   "name": "python3"
  },
  "language_info": {
   "codemirror_mode": {
    "name": "ipython",
    "version": 3
   },
   "file_extension": ".py",
   "mimetype": "text/x-python",
   "name": "python",
   "nbconvert_exporter": "python",
   "pygments_lexer": "ipython3",
   "version": "3.7.3"
  }
 },
 "nbformat": 4,
 "nbformat_minor": 2
}
